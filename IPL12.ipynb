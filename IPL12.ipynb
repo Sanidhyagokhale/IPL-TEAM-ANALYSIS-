{
  "metadata": {
    "kernelspec": {
      "language": "python",
      "display_name": "Python 3",
      "name": "python3"
    },
    "language_info": {
      "name": "python",
      "version": "3.10.12",
      "mimetype": "text/x-python",
      "codemirror_mode": {
        "name": "ipython",
        "version": 3
      },
      "pygments_lexer": "ipython3",
      "nbconvert_exporter": "python",
      "file_extension": ".py"
    },
    "kaggle": {
      "accelerator": "none",
      "dataSources": [
        {
          "sourceId": 8637500,
          "sourceType": "datasetVersion",
          "datasetId": 990900
        }
      ],
      "dockerImageVersionId": 30918,
      "isInternetEnabled": false,
      "language": "python",
      "sourceType": "notebook",
      "isGpuEnabled": false
    },
    "colab": {
      "name": "IPL12",
      "provenance": []
    }
  },
  "nbformat_minor": 0,
  "nbformat": 4,
  "cells": [
    {
      "source": [
        "# IMPORTANT: RUN THIS CELL IN ORDER TO IMPORT YOUR KAGGLE DATA SOURCES,\n",
        "# THEN FEEL FREE TO DELETE THIS CELL.\n",
        "# NOTE: THIS NOTEBOOK ENVIRONMENT DIFFERS FROM KAGGLE'S PYTHON\n",
        "# ENVIRONMENT SO THERE MAY BE MISSING LIBRARIES USED BY YOUR\n",
        "# NOTEBOOK.\n",
        "import kagglehub\n",
        "patrickb1912_ipl_complete_dataset_20082020_path = kagglehub.dataset_download('patrickb1912/ipl-complete-dataset-20082020')\n",
        "\n",
        "print('Data source import complete.')\n"
      ],
      "metadata": {
        "id": "56rVqf--M1Kl"
      },
      "cell_type": "code",
      "outputs": [],
      "execution_count": null
    },
    {
      "cell_type": "code",
      "source": [
        "# This Python 3 environment comes with many helpful analytics libraries installed\n",
        "# It is defined by the kaggle/python Docker image: https://github.com/kaggle/docker-python\n",
        "# For example, here's several helpful packages to load\n",
        "\n",
        "import numpy as np # linear algebra\n",
        "import pandas as pd # data processing, CSV file I/O (e.g. pd.read_csv)\n",
        "\n",
        "# Input data files are available in the read-only \"../input/\" directory\n",
        "# For example, running this (by clicking run or pressing Shift+Enter) will list all files under the input directory\n",
        "\n",
        "import os\n",
        "for dirname, _, filenames in os.walk('/kaggle/input'):\n",
        "    for filename in filenames:\n",
        "        print(os.path.join(dirname, filename))\n",
        "\n",
        "# You can write up to 20GB to the current directory (/kaggle/working/) that gets preserved as output when you create a version using \"Save & Run All\"\n",
        "# You can also write temporary files to /kaggle/temp/, but they won't be saved outside of the current session"
      ],
      "metadata": {
        "_uuid": "8f2839f25d086af736a60e9eeb907d3b93b6e0e5",
        "_cell_guid": "b1076dfc-b9ad-4769-8c92-a6c4dae69d19",
        "trusted": true,
        "execution": {
          "iopub.status.busy": "2025-03-26T17:34:20.108143Z",
          "iopub.execute_input": "2025-03-26T17:34:20.110062Z",
          "iopub.status.idle": "2025-03-26T17:34:23.085473Z",
          "shell.execute_reply.started": "2025-03-26T17:34:20.109906Z",
          "shell.execute_reply": "2025-03-26T17:34:23.079944Z"
        },
        "id": "FZLBBjkZM1Kp"
      },
      "outputs": [],
      "execution_count": null
    },
    {
      "cell_type": "code",
      "source": [
        "import pandas as pd\n",
        "import os\n",
        "\n",
        "# Check available files in Kaggle dataset directory\n",
        "print(os.listdir(\"/kaggle/input\"))\n",
        "\n",
        "# Correct file path (update if necessary)\n",
        "url = \"/kaggle/input/ipl-complete-dataset-20082020/matches.csv\"\n",
        "\n",
        "# Read the CSV file\n",
        "data1 = pd.read_csv(url)\n",
        "print(data1.head())  # Display first 5 rows\n"
      ],
      "metadata": {
        "trusted": true,
        "execution": {
          "iopub.status.busy": "2025-03-26T17:47:18.267968Z",
          "iopub.execute_input": "2025-03-26T17:47:18.268286Z",
          "iopub.status.idle": "2025-03-26T17:47:19.542611Z",
          "shell.execute_reply.started": "2025-03-26T17:47:18.268238Z",
          "shell.execute_reply": "2025-03-26T17:47:19.541445Z"
        },
        "id": "tp78hTr5M1Ks"
      },
      "outputs": [],
      "execution_count": null
    },
    {
      "cell_type": "code",
      "source": [
        "import pandas as pd\n",
        "import os\n",
        "\n",
        "# Check available datasets in Kaggle input directory\n",
        "print(\"Available datasets:\", os.listdir(\"/kaggle/input\"))\n",
        "\n",
        "# Correct file path (update if necessary)\n",
        "file_path = \"/kaggle/input/ipl-complete-dataset-20082020/matches.csv\"\n",
        "\n",
        "# Read the CSV file\n",
        "data = pd.read_csv(file_path)\n",
        "\n",
        "# Display general information about the dataset\n",
        "print(\"\\nDataset Info:\")\n",
        "print(data.info())\n",
        "\n",
        "# Display the first 5 rows\n",
        "print(\"\\nFirst 5 Rows:\")\n",
        "print(data.head())\n",
        "\n",
        "# Display the last 5 rows\n",
        "print(\"\\nLast 5 Rows:\")\n",
        "print(data.tail())\n",
        "\n",
        "# Display basic statistics (numerical columns)\n",
        "print(\"\\nStatistical Summary:\")\n",
        "print(data.describe())\n",
        "\n",
        "# Display column names\n",
        "print(\"\\nColumn Names:\")\n",
        "print(data.columns)\n",
        "\n",
        "# Display the full dataset (not truncated)\n",
        "print(\"\\nFull Dataset:\")\n",
        "pd.set_option('display.max_rows', None)  # Show all rows\n",
        "pd.set_option('display.max_columns', None)  # Show all columns\n",
        "print(data)\n"
      ],
      "metadata": {
        "trusted": true,
        "execution": {
          "iopub.status.busy": "2025-03-26T17:47:27.406896Z",
          "iopub.execute_input": "2025-03-26T17:47:27.407223Z",
          "iopub.status.idle": "2025-03-26T17:47:27.689085Z",
          "shell.execute_reply.started": "2025-03-26T17:47:27.407198Z",
          "shell.execute_reply": "2025-03-26T17:47:27.68803Z"
        },
        "id": "Q8Jb4SN0M1Ku"
      },
      "outputs": [],
      "execution_count": null
    },
    {
      "cell_type": "code",
      "source": [
        "import pandas as pd\n",
        "import matplotlib.pyplot as plt\n",
        "import seaborn as sns\n",
        "\n",
        "# Load dataset\n",
        "file_path = \"/kaggle/input/ipl-complete-dataset-20082020/matches.csv\"\n",
        "df = pd.read_csv(file_path)\n",
        "\n",
        "# Filter data for Mumbai Indians\n",
        "mi_df = df[(df['team1'] == 'Mumbai Indians') | (df['team2'] == 'Mumbai Indians')]\n",
        "\n",
        "# Set Seaborn style\n",
        "sns.set_style(\"darkgrid\")\n",
        "\n",
        "# 1️⃣ **Bar Plot - Matches Played Per Season**\n",
        "plt.figure(figsize=(10, 5))\n",
        "sns.countplot(x=mi_df['season'], palette=\"Blues\")\n",
        "plt.title(\"Mumbai Indians Matches Per Season\")\n",
        "plt.xlabel(\"Season\")\n",
        "plt.ylabel(\"Match Count\")\n",
        "plt.xticks(rotation=45)\n",
        "plt.show()\n",
        "\n",
        "# 2️⃣ **Bar Chart - Matches Won Per Opponent**\n",
        "plt.figure(figsize=(12, 5))\n",
        "mi_wins = mi_df[mi_df['winner'] == \"Mumbai Indians\"]['loser'].value_counts()\n",
        "sns.barplot(x=mi_wins.index, y=mi_wins.values, palette=\"coolwarm\")\n",
        "plt.title(\"Mumbai Indians Wins Against Opponents\")\n",
        "plt.xlabel(\"Opponent Team\")\n",
        "plt.ylabel(\"Win Count\")\n",
        "plt.xticks(rotation=45)\n",
        "plt.show()\n",
        "\n",
        "# 3️⃣ **Pie Chart - Toss Decision by Mumbai Indians**\n",
        "plt.figure(figsize=(6, 6))\n",
        "mi_toss = mi_df[mi_df['toss_winner'] == 'Mumbai Indians']['toss_decision'].value_counts()\n",
        "mi_toss.plot(kind='pie', autopct='%1.1f%%', colors=['lightblue', 'orange'])\n",
        "plt.title(\"Toss Decisions by Mumbai Indians\")\n",
        "plt.ylabel(\"\")\n",
        "plt.show()\n"
      ],
      "metadata": {
        "trusted": true,
        "execution": {
          "iopub.status.busy": "2025-03-26T17:48:18.439538Z",
          "iopub.execute_input": "2025-03-26T17:48:18.439866Z",
          "iopub.status.idle": "2025-03-26T17:48:18.968766Z",
          "shell.execute_reply.started": "2025-03-26T17:48:18.439841Z",
          "shell.execute_reply": "2025-03-26T17:48:18.967416Z"
        },
        "id": "3DhF-Xi0M1Kv"
      },
      "outputs": [],
      "execution_count": null
    },
    {
      "cell_type": "code",
      "source": [
        "import pandas as pd\n",
        "import os\n",
        "import matplotlib.pyplot as plt\n",
        "import seaborn as sns\n",
        "\n",
        "# Check available datasets in Kaggle input directory\n",
        "print(\"Available datasets:\", os.listdir(\"/kaggle/input\"))\n",
        "\n",
        "# Load dataset\n",
        "file_path = \"/kaggle/input/ipl-complete-dataset-20082020/matches.csv\"\n",
        "df = pd.read_csv(file_path)\n",
        "\n",
        "# Display general info\n",
        "print(\"\\nDataset Info:\")\n",
        "print(df.info())\n",
        "\n",
        "# Display first 5 rows\n",
        "print(\"\\nFirst 5 Rows:\")\n",
        "print(df.head())\n",
        "\n",
        "# Set Seaborn style\n",
        "sns.set_style(\"darkgrid\")\n",
        "\n",
        "# 1️⃣ **Count of Matches Per Season**\n",
        "plt.figure(figsize=(10, 5))\n",
        "sns.countplot(x=df['season'], palette=\"viridis\")\n",
        "plt.title(\"Number of Matches Per Season\")\n",
        "plt.xlabel(\"Season\")\n",
        "plt.ylabel(\"Match Count\")\n",
        "plt.xticks(rotation=45)\n",
        "plt.show()\n",
        "\n",
        "# 2️⃣ **Top 10 Teams with Most Wins**\n",
        "plt.figure(figsize=(10, 5))\n",
        "top_winners = df['winner'].value_counts().head(10)\n",
        "sns.barplot(x=top_winners.index, y=top_winners.values, palette=\"coolwarm\")\n",
        "plt.title(\"Top 10 Teams with Most Wins\")\n",
        "plt.xlabel(\"Team\")\n",
        "plt.ylabel(\"Win Count\")\n",
        "plt.xticks(rotation=45)\n",
        "plt.show()\n",
        "\n",
        "# 3️⃣ **Toss Decision Distribution**\n",
        "plt.figure(figsize=(6, 6))\n",
        "df['toss_decision'].value_counts().plot(kind='pie', autopct='%1.1f%%', colors=['lightblue', 'orange'])\n",
        "plt.title(\"Toss Decision Distribution\")\n",
        "plt.ylabel(\"\")\n",
        "plt.show()\n",
        "\n",
        "# 4️⃣ **Matches Won by Batting First vs Bowling First**\n",
        "plt.figure(figsize=(6, 6))\n",
        "df['result'].value_counts().plot(kind='pie', autopct='%1.1f%%', colors=['green', 'red'])\n",
        "plt.title(\"Win by Batting First vs Bowling First\")\n",
        "plt.ylabel(\"\")\n",
        "plt.show()\n"
      ],
      "metadata": {
        "trusted": true,
        "execution": {
          "iopub.status.busy": "2025-03-26T17:49:23.786712Z",
          "iopub.execute_input": "2025-03-26T17:49:23.787074Z",
          "iopub.status.idle": "2025-03-26T17:49:24.869251Z",
          "shell.execute_reply.started": "2025-03-26T17:49:23.787043Z",
          "shell.execute_reply": "2025-03-26T17:49:24.868058Z"
        },
        "id": "bqHcynJHM1Kx"
      },
      "outputs": [],
      "execution_count": null
    }
  ]
}